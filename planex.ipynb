{
 "cells": [
  {
   "cell_type": "code",
   "execution_count": 19,
   "metadata": {},
   "outputs": [],
   "source": [
    "import numpy as np\n",
    "from itertools import combinations\n",
    "from pandas import DataFrame\n",
    "from IPython.display import display\n",
    "from statistics import variance\n",
    "from scipy.stats import t, f, norm\n",
    "import matplotlib.pyplot as plt"
   ]
  },
  {
   "cell_type": "markdown",
   "metadata": {},
   "source": [
    "## coletando as variaveis do usuarios "
   ]
  },
  {
   "cell_type": "code",
   "execution_count": 20,
   "metadata": {},
   "outputs": [
    {
     "name": "stdout",
     "output_type": "stream",
     "text": [
      "MÉTODO ESCOLHIDO: PLANEJAMENTO EXPERIMENTAL DDC - DELINEAMENTO COMPOSTO CENTRAL\n"
     ]
    }
   ],
   "source": [
    "#region\n",
    "print('MÉTODO ESCOLHIDO: PLANEJAMENTO EXPERIMENTAL DDC - DELINEAMENTO COMPOSTO CENTRAL')\n",
    "fatores = int(input('\\nO modelo possui quantas variáveis? '))\n",
    "replicadas = int(input('Existem quantas replicatas do ponto central? '))\n",
    "\n",
    "alfa = 0.05\n",
    "mult = 2\n",
    "\n",
    "combvariaveis = list()"
   ]
  },
  {
   "cell_type": "markdown",
   "metadata": {},
   "source": [
    "## gerando as combinacoes de variaveis "
   ]
  },
  {
   "cell_type": "code",
   "execution_count": 21,
   "metadata": {},
   "outputs": [],
   "source": [
    "for aux1 in range(2, fatores + 1):\n",
    "    combinacoes = list()\n",
    "    for aux2 in range(1, fatores + 1):\n",
    "        combinacoes.append(aux2)\n",
    "    combvariaveis.append(list(combinations(combinacoes, aux1)))\n"
   ]
  },
  {
   "cell_type": "markdown",
   "metadata": {},
   "source": [
    "[] descubrie para que serve sssas variaveis "
   ]
  },
  {
   "cell_type": "code",
   "execution_count": 22,
   "metadata": {},
   "outputs": [],
   "source": [
    "ind_comb1 = 0\n",
    "ind_comb2 = 0\n",
    "cont_comb = 0"
   ]
  },
  {
   "cell_type": "markdown",
   "metadata": {},
   "source": [
    "### definindo a estrutura da matriz X"
   ]
  },
  {
   "cell_type": "code",
   "execution_count": 23,
   "metadata": {},
   "outputs": [
    {
     "data": {
      "text/plain": [
       "array([[1, 1, 1, 1, 1, 1, 1, 1],\n",
       "       [1, 1, 1, 1, 1, 1, 1, 1],\n",
       "       [1, 1, 1, 1, 1, 1, 1, 1],\n",
       "       [1, 1, 1, 1, 1, 1, 1, 1],\n",
       "       [1, 1, 1, 1, 1, 1, 1, 1],\n",
       "       [1, 1, 1, 1, 1, 1, 1, 1],\n",
       "       [1, 1, 1, 1, 1, 1, 1, 1],\n",
       "       [1, 1, 1, 1, 1, 1, 1, 1],\n",
       "       [1, 1, 1, 1, 1, 1, 1, 1],\n",
       "       [1, 1, 1, 1, 1, 1, 1, 1],\n",
       "       [1, 1, 1, 1, 1, 1, 1, 1]])"
      ]
     },
     "execution_count": 23,
     "metadata": {},
     "output_type": "execute_result"
    }
   ],
   "source": [
    "lim_comb = combvariaveis[ind_comb2].__len__()\n",
    "# quantidade de esperimentos == linhas\n",
    "linx = 2 ** fatores + replicadas\n",
    "# quantidade de betas \n",
    "colx = 2 ** fatores\n",
    "\n",
    "matx = np.ones((linx, colx), dtype=int)\n",
    "matx"
   ]
  },
  {
   "cell_type": "markdown",
   "metadata": {},
   "source": [
    "### Preenchimento da Matriz X (Replicatas, Coluna 2, Última Coluna e Variáveis)"
   ]
  },
  {
   "cell_type": "code",
   "execution_count": 35,
   "metadata": {},
   "outputs": [
    {
     "ename": "IndexError",
     "evalue": "list index out of range",
     "output_type": "error",
     "traceback": [
      "\u001b[1;31m---------------------------------------------------------------------------\u001b[0m",
      "\u001b[1;31mIndexError\u001b[0m                                Traceback (most recent call last)",
      "\u001b[1;32mc:\\Users\\lopes\\OneDrive\\estudos\\facudade\\proj.pesquisa\\PLAN.EX-main\\planex.ipynb Cell 11'\u001b[0m in \u001b[0;36m<module>\u001b[1;34m\u001b[0m\n\u001b[0;32m     <a href='vscode-notebook-cell:/c%3A/Users/lopes/OneDrive/estudos/facudade/proj.pesquisa/PLAN.EX-main/planex.ipynb#ch0000010?line=38'>39</a>\u001b[0m         ind_comb1 \u001b[39m+\u001b[39m\u001b[39m=\u001b[39m \u001b[39m1\u001b[39m\n\u001b[0;32m     <a href='vscode-notebook-cell:/c%3A/Users/lopes/OneDrive/estudos/facudade/proj.pesquisa/PLAN.EX-main/planex.ipynb#ch0000010?line=39'>40</a>\u001b[0m         cont_comb \u001b[39m=\u001b[39m \u001b[39m1\u001b[39m\n\u001b[1;32m---> <a href='vscode-notebook-cell:/c%3A/Users/lopes/OneDrive/estudos/facudade/proj.pesquisa/PLAN.EX-main/planex.ipynb#ch0000010?line=40'>41</a>\u001b[0m         comb \u001b[39m=\u001b[39m combvariaveis[ind_comb2][ind_comb1]\n\u001b[0;32m     <a href='vscode-notebook-cell:/c%3A/Users/lopes/OneDrive/estudos/facudade/proj.pesquisa/PLAN.EX-main/planex.ipynb#ch0000010?line=41'>42</a>\u001b[0m \u001b[39melse\u001b[39;00m:\n\u001b[0;32m     <a href='vscode-notebook-cell:/c%3A/Users/lopes/OneDrive/estudos/facudade/proj.pesquisa/PLAN.EX-main/planex.ipynb#ch0000010?line=42'>43</a>\u001b[0m     ind_comb2 \u001b[39m+\u001b[39m\u001b[39m=\u001b[39m \u001b[39m1\u001b[39m\n",
      "\u001b[1;31mIndexError\u001b[0m: list index out of range"
     ]
    }
   ],
   "source": [
    "# Preenchimento da Matriz X (Replicatas, Coluna 2, Última Coluna e Variáveis)\n",
    "for coluna in range(1, colx):\n",
    "    # Necessário para Colunas das variáveis\n",
    "    imparpar = 0\n",
    "    for linha in range(0, linx):\n",
    "\n",
    "        # 'Replicatas do ponto central'\n",
    "        if linha >= linx - replicadas:\n",
    "            matx[linha, coluna] = 0\n",
    "\n",
    "        # Coluna 2\n",
    "        elif coluna == 1 and linha % 2 == 0:\n",
    "            matx[linha, coluna] = -1\n",
    "\n",
    "        # Colunas das variáveis\n",
    "        elif coluna <= fatores and coluna != 1:\n",
    "            if linha % mult == 0:\n",
    "                imparpar += 1\n",
    "                #print('Linha:', linha, '\\n', 'Mult: ', mult, '\\n', 'O valor do imparpar: ', imparpar, '\\n')\n",
    "            if imparpar % 2 == 1:\n",
    "                matx[linha, coluna] = -1\n",
    "\n",
    "        # Última Coluna\n",
    "        elif coluna == colx - 1:\n",
    "            ultcol = 0\n",
    "            for ind_ultcol in range(1, fatores + 1):\n",
    "                if matx[linha, ind_ultcol] == -1:\n",
    "                    ultcol += 1\n",
    "            if ultcol % 2 != 0:\n",
    "                matx[linha, coluna] = -1\n",
    "\n",
    "        # Combinação das Variáveis\n",
    "        elif coluna > fatores:\n",
    "            if coluna - fatores <= lim_comb:\n",
    "                if cont_comb < 2 ** fatores:\n",
    "                    cont_comb += 1\n",
    "                    comb = combvariaveis[ind_comb2][ind_comb1]\n",
    "                else:\n",
    "                    ind_comb1 += 1\n",
    "                    cont_comb = 1\n",
    "                    comb = combvariaveis[ind_comb2][ind_comb1]\n",
    "            else:\n",
    "                ind_comb2 += 1\n",
    "                ind_comb1 = 0\n",
    "                cont_comb = 1\n",
    "                lim_comb += combvariaveis[ind_comb2].__len__()\n",
    "                comb = combvariaveis[ind_comb2][ind_comb1]\n",
    "            valormult = 1\n",
    "            for indcomb in range(0, comb.__len__()):\n",
    "                valormult *= matx[linha, comb[indcomb]]\n",
    "            # print('A multiplicação da combinação:', comb, 'na linha', linha, 'é', valormult)\n",
    "            matx[linha, coluna] = valormult\n",
    "\n",
    "    # Necessário para a Coluna das Variáveis\n",
    "    if coluna <= fatores and coluna != 1:\n",
    "        mult *= 2\n",
    "\n",
    "matx"
   ]
  },
  {
   "cell_type": "markdown",
   "metadata": {},
   "source": [
    "### # imprimindo informacoes da matriz "
   ]
  },
  {
   "cell_type": "code",
   "execution_count": 25,
   "metadata": {},
   "outputs": [
    {
     "name": "stdout",
     "output_type": "stream",
     "text": [
      "=-==-==-==-==-==-==-==-==-==-==-==-==-==-==-==-==-==-==-==-==-==-==-==-==-==-==-==-==-==-= \n",
      "\n",
      "A matriz X possui 11 linhas e  8 colunas.\n",
      "\n"
     ]
    }
   ],
   "source": [
    "\n",
    "print('=-=' * 30, '\\n')\n",
    "# Informando o tamanho da Matriz X\n",
    "print('A matriz X possui', linx, 'linhas e ', colx, 'colunas.\\n')\n"
   ]
  },
  {
   "cell_type": "markdown",
   "metadata": {},
   "source": [
    "### Imprimindo a Matriz X na tela"
   ]
  },
  {
   "cell_type": "code",
   "execution_count": 26,
   "metadata": {},
   "outputs": [
    {
     "name": "stdout",
     "output_type": "stream",
     "text": [
      "[ 1 ][-1 ][-1 ][-1 ][ 1 ][ 1 ][ 1 ][-1 ]\n",
      "[ 1 ][ 1 ][-1 ][-1 ][-1 ][-1 ][ 1 ][ 1 ]\n",
      "[ 1 ][-1 ][ 1 ][-1 ][-1 ][ 1 ][-1 ][ 1 ]\n",
      "[ 1 ][ 1 ][ 1 ][-1 ][ 1 ][-1 ][-1 ][-1 ]\n",
      "[ 1 ][-1 ][-1 ][ 1 ][ 1 ][-1 ][-1 ][ 1 ]\n",
      "[ 1 ][ 1 ][-1 ][ 1 ][-1 ][ 1 ][-1 ][-1 ]\n",
      "[ 1 ][-1 ][ 1 ][ 1 ][-1 ][-1 ][ 1 ][-1 ]\n",
      "[ 1 ][ 1 ][ 1 ][ 1 ][ 1 ][ 1 ][ 1 ][ 1 ]\n",
      "[ 1 ][ 0 ][ 0 ][ 0 ][ 0 ][ 0 ][ 0 ][ 0 ]\n",
      "[ 1 ][ 0 ][ 0 ][ 0 ][ 0 ][ 0 ][ 0 ][ 0 ]\n",
      "[ 1 ][ 0 ][ 0 ][ 0 ][ 0 ][ 0 ][ 0 ][ 0 ]\n"
     ]
    }
   ],
   "source": [
    "for linha in range(0, linx):\n",
    "    for coluna in range(0, colx):\n",
    "        print(f'[{matx[linha, coluna]:^3}]', end='')\n",
    "    print()\n"
   ]
  },
  {
   "cell_type": "code",
   "execution_count": 27,
   "metadata": {},
   "outputs": [
    {
     "data": {
      "text/plain": [
       "array([[ 1,  1,  1,  1,  1,  1,  1,  1,  1,  1,  1],\n",
       "       [-1,  1, -1,  1, -1,  1, -1,  1,  0,  0,  0],\n",
       "       [-1, -1,  1,  1, -1, -1,  1,  1,  0,  0,  0],\n",
       "       [-1, -1, -1, -1,  1,  1,  1,  1,  0,  0,  0],\n",
       "       [ 1, -1, -1,  1,  1, -1, -1,  1,  0,  0,  0],\n",
       "       [ 1, -1,  1, -1, -1,  1, -1,  1,  0,  0,  0],\n",
       "       [ 1,  1, -1, -1, -1, -1,  1,  1,  0,  0,  0],\n",
       "       [-1,  1,  1, -1,  1, -1, -1,  1,  0,  0,  0]])"
      ]
     },
     "execution_count": 27,
     "metadata": {},
     "output_type": "execute_result"
    }
   ],
   "source": [
    "\n",
    "# Continuidade do Programa\n",
    "\n",
    "# Matriz Transposta\n",
    "matxtranp = np.transpose(matx)\n",
    "##tamanho = matxtranp.shape\n",
    "matxtranp\n"
   ]
  },
  {
   "cell_type": "markdown",
   "metadata": {},
   "source": [
    "### Matriz X^t*X"
   ]
  },
  {
   "cell_type": "code",
   "execution_count": 28,
   "metadata": {},
   "outputs": [
    {
     "data": {
      "text/plain": [
       "array([[11,  0,  0,  0,  0,  0,  0,  0],\n",
       "       [ 0,  8,  0,  0,  0,  0,  0,  0],\n",
       "       [ 0,  0,  8,  0,  0,  0,  0,  0],\n",
       "       [ 0,  0,  0,  8,  0,  0,  0,  0],\n",
       "       [ 0,  0,  0,  0,  8,  0,  0,  0],\n",
       "       [ 0,  0,  0,  0,  0,  8,  0,  0],\n",
       "       [ 0,  0,  0,  0,  0,  0,  8,  0],\n",
       "       [ 0,  0,  0,  0,  0,  0,  0,  8]])"
      ]
     },
     "execution_count": 28,
     "metadata": {},
     "output_type": "execute_result"
    }
   ],
   "source": [
    "matx_t_x = np.matmul(matxtranp, matx)\n",
    "tamanho = matx_t_x.shape\n",
    "matx_t_x"
   ]
  },
  {
   "cell_type": "markdown",
   "metadata": {},
   "source": [
    "### Matriz X^t*X a -1"
   ]
  },
  {
   "cell_type": "code",
   "execution_count": 29,
   "metadata": {},
   "outputs": [],
   "source": [
    "matx_t_xinv = matx_t_x.astype(float)\n"
   ]
  },
  {
   "cell_type": "code",
   "execution_count": 30,
   "metadata": {},
   "outputs": [],
   "source": [
    "tamanho = matx_t_xinv.shape\n"
   ]
  },
  {
   "cell_type": "code",
   "execution_count": 31,
   "metadata": {},
   "outputs": [
    {
     "data": {
      "text/plain": [
       "array([[0.09090909, 0.        , 0.        , 0.        , 0.        ,\n",
       "        0.        , 0.        , 0.        ],\n",
       "       [0.        , 0.125     , 0.        , 0.        , 0.        ,\n",
       "        0.        , 0.        , 0.        ],\n",
       "       [0.        , 0.        , 0.125     , 0.        , 0.        ,\n",
       "        0.        , 0.        , 0.        ],\n",
       "       [0.        , 0.        , 0.        , 0.125     , 0.        ,\n",
       "        0.        , 0.        , 0.        ],\n",
       "       [0.        , 0.        , 0.        , 0.        , 0.125     ,\n",
       "        0.        , 0.        , 0.        ],\n",
       "       [0.        , 0.        , 0.        , 0.        , 0.        ,\n",
       "        0.125     , 0.        , 0.        ],\n",
       "       [0.        , 0.        , 0.        , 0.        , 0.        ,\n",
       "        0.        , 0.125     , 0.        ],\n",
       "       [0.        , 0.        , 0.        , 0.        , 0.        ,\n",
       "        0.        , 0.        , 0.125     ]])"
      ]
     },
     "execution_count": 31,
     "metadata": {},
     "output_type": "execute_result"
    }
   ],
   "source": [
    "for linha in range(0, tamanho[0]):\n",
    "    for coluna in range(0, tamanho[1]):\n",
    "        if linha == coluna:\n",
    "            matx_t_xinv[linha][coluna] = 1 / (matx_t_x[linha][coluna])\n",
    "matx_t_xinv\n"
   ]
  },
  {
   "cell_type": "markdown",
   "metadata": {},
   "source": [
    "### gerando matris  Y"
   ]
  },
  {
   "cell_type": "code",
   "execution_count": 32,
   "metadata": {},
   "outputs": [
    {
     "data": {
      "text/plain": [
       "array([[0.],\n",
       "       [0.],\n",
       "       [0.],\n",
       "       [0.],\n",
       "       [0.],\n",
       "       [0.],\n",
       "       [0.],\n",
       "       [0.],\n",
       "       [0.],\n",
       "       [0.],\n",
       "       [0.]])"
      ]
     },
     "execution_count": 32,
     "metadata": {},
     "output_type": "execute_result"
    }
   ],
   "source": [
    "\n",
    "maty = np.zeros((linx, 1), dtype=float)\n",
    "maty"
   ]
  },
  {
   "cell_type": "markdown",
   "metadata": {},
   "source": [
    "### Leitura da Matriz Y"
   ]
  },
  {
   "cell_type": "code",
   "execution_count": 33,
   "metadata": {},
   "outputs": [
    {
     "data": {
      "text/plain": [
       "'\\nprint(\\'\\n\\')\\nfor linha in range(0, linx):\\n    print(\"Insira o valor da linha\", linha+1, \"da Matriz Y: \")\\n    maty[linha][0] = input()\\n'"
      ]
     },
     "execution_count": 33,
     "metadata": {},
     "output_type": "execute_result"
    }
   ],
   "source": [
    "maty = [[1.],[20.],[2.],[3.],[4.],[4.],[4.]]\n",
    "\n",
    "'''\n",
    "print('\\n')\n",
    "for linha in range(0, linx):\n",
    "    print(\"Insira o valor da linha\", linha+1, \"da Matriz Y: \")\n",
    "    maty[linha][0] = input()\n",
    "'''\n"
   ]
  },
  {
   "cell_type": "code",
   "execution_count": 34,
   "metadata": {},
   "outputs": [
    {
     "ename": "ValueError",
     "evalue": "matmul: Input operand 1 has a mismatch in its core dimension 0, with gufunc signature (n?,k),(k,m?)->(n?,m?) (size 7 is different from 11)",
     "output_type": "error",
     "traceback": [
      "\u001b[1;31m---------------------------------------------------------------------------\u001b[0m",
      "\u001b[1;31mValueError\u001b[0m                                Traceback (most recent call last)",
      "\u001b[1;32mc:\\Users\\lopes\\OneDrive\\estudos\\facudade\\proj.pesquisa\\PLAN.EX-main\\planex.ipynb Cell 27'\u001b[0m in \u001b[0;36m<module>\u001b[1;34m\u001b[0m\n\u001b[0;32m      <a href='vscode-notebook-cell:/c%3A/Users/lopes/OneDrive/estudos/facudade/proj.pesquisa/PLAN.EX-main/planex.ipynb#ch0000026?line=0'>1</a>\u001b[0m \u001b[39m# Cálculo da Matriz X^t * Y\u001b[39;00m\n\u001b[1;32m----> <a href='vscode-notebook-cell:/c%3A/Users/lopes/OneDrive/estudos/facudade/proj.pesquisa/PLAN.EX-main/planex.ipynb#ch0000026?line=1'>2</a>\u001b[0m matx_t_y \u001b[39m=\u001b[39m np\u001b[39m.\u001b[39;49mmatmul(matxtranp, maty)\n",
      "\u001b[1;31mValueError\u001b[0m: matmul: Input operand 1 has a mismatch in its core dimension 0, with gufunc signature (n?,k),(k,m?)->(n?,m?) (size 7 is different from 11)"
     ]
    }
   ],
   "source": [
    "\n",
    "# Cálculo da Matriz X^t * Y\n",
    "matx_t_y = np.matmul(matxtranp, maty)\n"
   ]
  },
  {
   "cell_type": "code",
   "execution_count": null,
   "metadata": {},
   "outputs": [],
   "source": [
    "# Cálculo dos Betas\n",
    "matbetas = np.matmul(matx_t_xinv, matx_t_y)"
   ]
  },
  {
   "cell_type": "code",
   "execution_count": null,
   "metadata": {},
   "outputs": [],
   "source": [
    "# Matriz Beta^t\n",
    "matbetas_t = np.transpose(matbetas)"
   ]
  },
  {
   "cell_type": "code",
   "execution_count": null,
   "metadata": {},
   "outputs": [],
   "source": [
    "\n",
    "# Valor de Beta^t * X^t * Y\n",
    "matbetas_t_x_t_y = np.matmul(matbetas_t, matx_t_y)"
   ]
  },
  {
   "cell_type": "code",
   "execution_count": null,
   "metadata": {},
   "outputs": [],
   "source": [
    "\n",
    "# Calculo da variância dos pontos centrais\n",
    "pntcentrais = []\n",
    "for i in range(colx, linx):\n",
    "    pntcentrais.append(maty[i, 0])\n",
    "\n",
    "varian = np.sqrt(variance(pntcentrais) * matx_t_xinv)"
   ]
  },
  {
   "cell_type": "code",
   "execution_count": null,
   "metadata": {},
   "outputs": [],
   "source": [
    "er = []\n",
    "for lin in range(tamanho[0]):\n",
    "    for col in range(tamanho[1]):\n",
    "        if lin == col:\n",
    "            er.append(varian[lin][col])"
   ]
  },
  {
   "cell_type": "code",
   "execution_count": null,
   "metadata": {},
   "outputs": [],
   "source": [
    "# Montagem da Tabela de Significância dos Betas\n",
    "matb = matbetas.ravel()\n",
    "tam_matb = matb.size\n",
    "tcalc = (matb - 0) / er\n",
    "tintervalo = t.interval(1 - alfa, linx - tam_matb)\n",
    "tcrit = tintervalo[1]\n",
    "\n",
    "t_pvalor_bc = []\n",
    "for i in range(tam_matb):\n",
    "    if matb[i] >= 0:\n",
    "        t_pvalor_bc.append(2 * t.sf(tcalc[i], tam_matb - 1))\n",
    "    else:\n",
    "        t_pvalor_bc.append(2 * t.cdf(tcalc[i], tam_matb - 1))\n",
    "\n",
    "t_aceitacao = []\n",
    "for i in range(tam_matb):\n",
    "    if t_pvalor_bc[i] < alfa:\n",
    "        t_aceitacao.append(\"Aceita-se H0\")\n",
    "    else:\n",
    "        t_aceitacao.append(\"Rejeita-se H0\")\n",
    "\n",
    "tab_signbeta = DataFrame(\n",
    "    {\n",
    "        'B   ': matb,\n",
    "        'er   ': er,\n",
    "        'H0': 0,\n",
    "        '     t[(B - H0)/er]': tcalc,\n",
    "        't crítico': tcrit,\n",
    "        '  Análise da Hipótese': t_aceitacao,\n",
    "        'p-valor': t_pvalor_bc\n",
    "    }\n",
    ")\n",
    "\n",
    "print('\\nTABELA DE SIGNIFICÂNCIA DOS BETAS\\n', '=-=' * 30)\n",
    "display('\\n', tab_signbeta)"
   ]
  },
  {
   "cell_type": "code",
   "execution_count": null,
   "metadata": {},
   "outputs": [],
   "source": [
    "# Consideração dos Betas com Significância\n",
    "\n",
    "#print(matbetas.size)\n",
    "mem_matbetas = matbetas\n",
    "elim_betas = 0\n",
    "while elim_betas == 0:\n",
    "    perg_betas = input('\\nDeseja desconsiderar um beta do modelo?(s/n) ')\n",
    "    if perg_betas == 's':\n",
    "        beta_retirado = int(input('\\nQual o  índice do beta a ser desconsiderado? '))\n",
    "        if beta_retirado > 0 and beta_retirado < matbetas.size:\n",
    "            matbetas[beta_retirado] = 0\n",
    "    else:\n",
    "        elim_betas = 1\n",
    "\n",
    "# Calculo da Matriz Y^\n",
    "matY_ = np.matmul(matx, matbetas)\n",
    "#print('\\n\\n', maty_)\n",
    "\n",
    "# Calculo da Tabela de ANOVA\n",
    "sqereg = np.sum((matY_ - maty.mean()) ** 2)\n",
    "#print('SQE Regressão: ', sqereg)\n",
    "mat_sqe = (maty - matY_) ** 2\n",
    "sqe = np.sum(mat_sqe)\n",
    "#print('SQE: ', sqe)\n",
    "mat_sqfaltaajuste = mat_sqe\n",
    "media_repeticao = np.sum(maty[mat_sqe.size - replicadas:mat_sqe.size]) / replicadas\n",
    "#print(media_repeticao)\n",
    "for i in range(mat_sqe.size - replicadas, mat_sqe.size):\n",
    "    mat_sqfaltaajuste[i] = (matY_[i] - media_repeticao) ** 2\n",
    "sqfaltaajuste = np.sum(mat_sqfaltaajuste)\n",
    "#print(sqfaltaajuste)\n",
    "\n",
    "mat_sqerropuro = mat_sqe\n",
    "for i in range(mat_sqerropuro.size):\n",
    "    if i < mat_sqerropuro.size - replicadas:\n",
    "        mat_sqerropuro[i] = 0\n",
    "    else:\n",
    "        mat_sqerropuro[i] = (maty[i] - media_repeticao) ** 2\n",
    "sqerropuro = np.sum(mat_sqerropuro)\n",
    "\n",
    "font_var = np.array(['Regressão', 'Resíduos', 'Falta Ajuste', 'Erro Puro'])\n",
    "num_gl = np.array([matbetas.size - 1, 2 ** fatores + replicadas - matbetas.size, 2 ** fatores + 1 - matbetas.size, replicadas - 1])\n",
    "somaquad = np.array([sqereg, sqe, sqfaltaajuste, sqerropuro])\n",
    "mediaquad = somaquad / num_gl\n",
    "fcalc = np.empty(4)\n",
    "fcalc[0:2] = mediaquad[0] / mediaquad[1]\n",
    "fcalc[2:] = mediaquad[2] / mediaquad[3]\n",
    "fcrit = np.empty(4)\n",
    "fcrit[0:2] = f.interval(1 - 2 * alfa, num_gl[0], num_gl[1])[1]\n",
    "fcrit[2:] = f.interval(1 - 2 * alfa, num_gl[2], num_gl[3])[1]\n",
    "f_aceitacao = np.empty(4).astype(str)\n",
    "if fcalc[0] > fcrit[0]:\n",
    "    f_aceitacao[:2] = 'Modelo Signif.'\n",
    "else:\n",
    "    f_aceitacao[:2] = 'Modelo Não Signif.'\n",
    "\n",
    "if fcalc[2] > fcrit[2]:\n",
    "    f_aceitacao[2:] = 'Não falta ajustes'\n",
    "else:\n",
    "    f_aceitacao[2:] = 'Falta ajustes'\n",
    "\n",
    "f_pvalor = np.zeros(4)\n",
    "f_pvalor[:2] = f.sf(fcalc[0], num_gl[0], num_gl[1])\n",
    "f_pvalor[2:] = f.sf(fcalc[2], num_gl[2], num_gl[3])\n",
    "\n",
    "tab_anova = DataFrame(\n",
    "    {\n",
    "        'Fonte Variação': font_var,\n",
    "        'Soma Quadrática': somaquad,\n",
    "        'GL': num_gl,\n",
    "        'Média Quadrática': mediaquad,\n",
    "        'F Calculado': fcalc,\n",
    "        'F Crítico': fcrit,\n",
    "        'Julgamento': f_aceitacao,\n",
    "        'p-valor': f_pvalor\n",
    "    }\n",
    ")\n",
    "\n",
    "print('\\nTABELA DE ANOVA\\n', '=-=' * 30)\n",
    "display('\\n', tab_anova)\n",
    "\n",
    "matefeitos = matbetas * 2\n",
    "print(matefeitos)\n",
    "efeitos = np.sort(matefeitos, axis=0)\n",
    "print('\\n', efeitos)\n",
    "\n",
    "fator = 1 / matbetas.size\n",
    "print(fator)\n",
    "\n",
    "print(matbetas.size)\n",
    "pm = np.empty((matbetas.size, 1))\n",
    "for i in range(matbetas.size):\n",
    "    if i == 0:\n",
    "        pm[i, 0] = (fator / 2)\n",
    "    else:\n",
    "        pm[i, 0] = (pm[i-1] + fator)\n",
    "print(pm)\n",
    "\n",
    "mat_z = norm.ppf(pm)\n",
    "print(mat_z)\n",
    "\n",
    "figura1, graf_normal = plt.subplots(ncols=2, nrows=2, figsize=(15, 10))\n",
    "graf_normal[0, 0].set_title(\"Gráfico de Probabilidade Normal\")\n",
    "graf_normal[0, 0].plot(efeitos, mat_z, \"ro\")\n",
    "graf_normal[0, 0].set_xlabel(\"Efeitos\")\n",
    "graf_normal[0, 0].set_ylabel(\"Variável Z\")\n",
    "graf_normal[0, 0].set_adjustable(\"box\", share=True)\n",
    "\n",
    "graf_normal[0, 1].set_title('Gráfico de Resíduos em Função dos Valores Estimados')\n",
    "graf_normal[0, 1].plot(matY_, maty - matY_, \"ro\")\n",
    "graf_normal[0, 1].set_xlabel('Valores Estimados')\n",
    "graf_normal[0, 1].set_ylabel('Resíduos')\n",
    "\n",
    "variaveis = np.array(['Média', 'X1', 'X2', 'X1X2'])\n",
    "'''\n",
    "for i in range(k):\n",
    "    if i == 0:\n",
    "        variaveis.append('Média')\n",
    "    else:\n",
    "        kaux = list()\n",
    "        for j in range(i):\n",
    "            kaux.append(str(j + 1))\n",
    "        variaveis.append(combinations(kaux))\n",
    "'''\n",
    "graf_normal[1, 0].set_title(\"Gráfico de Pareto\")\n",
    "graf_normal[1, 0].barh(variaveis[::-1], tcalc[::-1])\n",
    "graf_normal[1, 0].vlines(tcrit, -0.5, (tcalc.size + 0.5), linestyles='dotted', lw=3, colors='r')\n",
    "\n",
    "plt.show()\n",
    "\n",
    "fim = input('\\nAperte ENTER para finalizar o programa...')\n",
    "\n",
    "print(\"\")\n",
    "\n",
    "\n"
   ]
  }
 ],
 "metadata": {
  "interpreter": {
   "hash": "63fd5069d213b44bf678585dea6b12cceca9941eaf7f819626cde1f2670de90d"
  },
  "kernelspec": {
   "display_name": "Python 3.9.7 64-bit",
   "language": "python",
   "name": "python3"
  },
  "language_info": {
   "codemirror_mode": {
    "name": "ipython",
    "version": 3
   },
   "file_extension": ".py",
   "mimetype": "text/x-python",
   "name": "python",
   "nbconvert_exporter": "python",
   "pygments_lexer": "ipython3",
   "version": "3.9.7"
  },
  "orig_nbformat": 4
 },
 "nbformat": 4,
 "nbformat_minor": 2
}
