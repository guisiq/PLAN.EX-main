{
 "cells": [
  {
   "cell_type": "code",
   "execution_count": 101,
   "metadata": {},
   "outputs": [],
   "source": [
    "import numpy as np\n",
    "from itertools import combinations\n",
    "from pandas import DataFrame\n",
    "from IPython.display import display\n",
    "from statistics import variance\n",
    "from scipy.stats import t, f, norm\n",
    "import matplotlib.pyplot as plt"
   ]
  },
  {
   "cell_type": "markdown",
   "metadata": {},
   "source": [
    "## coletando as variaveis do usuarios "
   ]
  },
  {
   "cell_type": "code",
   "execution_count": 102,
   "metadata": {},
   "outputs": [
    {
     "name": "stdout",
     "output_type": "stream",
     "text": [
      "MÉTODO ESCOLHIDO: PLANEJAMENTO EXPERIMENTAL DDC - DELINEAMENTO COMPOSTO CENTRAL\n"
     ]
    }
   ],
   "source": [
    "#region\n",
    "print('MÉTODO ESCOLHIDO: PLANEJAMENTO EXPERIMENTAL DDC - DELINEAMENTO COMPOSTO CENTRAL')\n",
    "fatores = int(input('\\nO modelo possui quantas variáveis? '))\n",
    "replicadas = int(input('Existem quantas replicatas do ponto central? '))\n",
    "\n",
    "alfa = 0.05\n",
    "mult = 2\n",
    "\n",
    "combvariaveis = list()"
   ]
  },
  {
   "cell_type": "markdown",
   "metadata": {},
   "source": [
    "## gerando as combinacoes de variaveis "
   ]
  },
  {
   "cell_type": "code",
   "execution_count": 103,
   "metadata": {},
   "outputs": [],
   "source": [
    "for aux1 in range(2, fatores + 1):\n",
    "    combinacoes = list()\n",
    "    for aux2 in range(1, fatores + 1):\n",
    "        combinacoes.append(aux2)\n",
    "    combvariaveis.append(list(combinations(combinacoes, aux1)))\n"
   ]
  },
  {
   "cell_type": "markdown",
   "metadata": {},
   "source": [
    "[] descubrie para que serve sssas variaveis "
   ]
  },
  {
   "cell_type": "code",
   "execution_count": 104,
   "metadata": {},
   "outputs": [],
   "source": [
    "ind_comb1 = 0\n",
    "ind_comb2 = 0\n",
    "cont_comb = 0"
   ]
  },
  {
   "cell_type": "markdown",
   "metadata": {},
   "source": [
    "### definindo a estrutura da matriz X"
   ]
  },
  {
   "cell_type": "code",
   "execution_count": 105,
   "metadata": {},
   "outputs": [
    {
     "data": {
      "text/plain": [
       "array([[1, 1, 1, 1, 1, 1, 1, 1],\n",
       "       [1, 1, 1, 1, 1, 1, 1, 1],\n",
       "       [1, 1, 1, 1, 1, 1, 1, 1],\n",
       "       [1, 1, 1, 1, 1, 1, 1, 1],\n",
       "       [1, 1, 1, 1, 1, 1, 1, 1],\n",
       "       [1, 1, 1, 1, 1, 1, 1, 1],\n",
       "       [1, 1, 1, 1, 1, 1, 1, 1],\n",
       "       [1, 1, 1, 1, 1, 1, 1, 1],\n",
       "       [1, 1, 1, 1, 1, 1, 1, 1],\n",
       "       [1, 1, 1, 1, 1, 1, 1, 1],\n",
       "       [1, 1, 1, 1, 1, 1, 1, 1],\n",
       "       [1, 1, 1, 1, 1, 1, 1, 1]])"
      ]
     },
     "execution_count": 105,
     "metadata": {},
     "output_type": "execute_result"
    }
   ],
   "source": [
    "lim_comb = combvariaveis[ind_comb2].__len__()\n",
    "# quantidade de esperimentos == linhas\n",
    "linx = 2 ** fatores + replicadas\n",
    "# quantidade de betas \n",
    "colx = 2 ** fatores\n",
    "\n",
    "matx = np.ones((linx, colx), dtype=int)\n",
    "matx"
   ]
  },
  {
   "cell_type": "markdown",
   "metadata": {},
   "source": [
    "### Preenchimento da Matriz X (Replicatas, Coluna 2, Última Coluna e Variáveis)"
   ]
  },
  {
   "cell_type": "code",
   "execution_count": 106,
   "metadata": {},
   "outputs": [
    {
     "data": {
      "text/plain": [
       "array([[ 1, -1, -1, -1,  1,  1,  1, -1],\n",
       "       [ 1,  1, -1, -1, -1, -1,  1,  1],\n",
       "       [ 1, -1,  1, -1, -1,  1, -1,  1],\n",
       "       [ 1,  1,  1, -1,  1, -1, -1, -1],\n",
       "       [ 1, -1, -1,  1,  1, -1, -1,  1],\n",
       "       [ 1,  1, -1,  1, -1,  1, -1, -1],\n",
       "       [ 1, -1,  1,  1, -1, -1,  1, -1],\n",
       "       [ 1,  1,  1,  1,  1,  1,  1,  1],\n",
       "       [ 1,  0,  0,  0,  0,  0,  0,  0],\n",
       "       [ 1,  0,  0,  0,  0,  0,  0,  0],\n",
       "       [ 1,  0,  0,  0,  0,  0,  0,  0],\n",
       "       [ 1,  0,  0,  0,  0,  0,  0,  0]])"
      ]
     },
     "execution_count": 106,
     "metadata": {},
     "output_type": "execute_result"
    }
   ],
   "source": [
    "# Preenchimento da Matriz X (Replicatas, Coluna 2, Última Coluna e Variáveis)\n",
    "for coluna in range(1, colx):\n",
    "    # Necessário para Colunas das variáveis\n",
    "    imparpar = 0\n",
    "    for linha in range(0, linx):\n",
    "\n",
    "        # 'Replicatas do ponto central'\n",
    "        if linha >= linx - replicadas:\n",
    "            matx[linha, coluna] = 0\n",
    "\n",
    "        # Coluna 2\n",
    "        elif coluna == 1 and linha % 2 == 0:\n",
    "            matx[linha, coluna] = -1\n",
    "\n",
    "        # Colunas das variáveis\n",
    "        elif coluna <= fatores and coluna != 1:\n",
    "            if linha % mult == 0:\n",
    "                imparpar += 1\n",
    "                #print('Linha:', linha, '\\n', 'Mult: ', mult, '\\n', 'O valor do imparpar: ', imparpar, '\\n')\n",
    "            if imparpar % 2 == 1:\n",
    "                matx[linha, coluna] = -1\n",
    "\n",
    "        # Última Coluna\n",
    "        elif coluna == colx - 1:\n",
    "            ultcol = 0\n",
    "            for ind_ultcol in range(1, fatores + 1):\n",
    "                if matx[linha, ind_ultcol] == -1:\n",
    "                    ultcol += 1\n",
    "            if ultcol % 2 != 0:\n",
    "                matx[linha, coluna] = -1\n",
    "\n",
    "        # Combinação das Variáveis\n",
    "        elif coluna > fatores:\n",
    "            if coluna - fatores <= lim_comb:\n",
    "                if cont_comb < 2 ** fatores:\n",
    "                    cont_comb += 1\n",
    "                    comb = combvariaveis[ind_comb2][ind_comb1]\n",
    "                else:\n",
    "                    ind_comb1 += 1\n",
    "                    cont_comb = 1\n",
    "                    comb = combvariaveis[ind_comb2][ind_comb1]\n",
    "            else:\n",
    "                ind_comb2 += 1\n",
    "                ind_comb1 = 0\n",
    "                cont_comb = 1\n",
    "                lim_comb += combvariaveis[ind_comb2].__len__()\n",
    "                comb = combvariaveis[ind_comb2][ind_comb1]\n",
    "            valormult = 1\n",
    "            for indcomb in range(0, comb.__len__()):\n",
    "                valormult *= matx[linha, comb[indcomb]]\n",
    "            # print('A multiplicação da combinação:', comb, 'na linha', linha, 'é', valormult)\n",
    "            matx[linha, coluna] = valormult\n",
    "\n",
    "    # Necessário para a Coluna das Variáveis\n",
    "    if coluna <= fatores and coluna != 1:\n",
    "        mult *= 2\n",
    "\n",
    "matx"
   ]
  },
  {
   "cell_type": "markdown",
   "metadata": {},
   "source": [
    "### # imprimindo informacoes da matriz "
   ]
  },
  {
   "cell_type": "code",
   "execution_count": 107,
   "metadata": {},
   "outputs": [
    {
     "name": "stdout",
     "output_type": "stream",
     "text": [
      "=-==-==-==-==-==-==-==-==-==-==-==-==-==-==-==-==-==-==-==-==-==-==-==-==-==-==-==-==-==-= \n",
      "\n",
      "A matriz X possui 12 linhas e  8 colunas.\n",
      "\n"
     ]
    }
   ],
   "source": [
    "\n",
    "print('=-=' * 30, '\\n')\n",
    "# Informando o tamanho da Matriz X\n",
    "print('A matriz X possui', linx, 'linhas e ', colx, 'colunas.\\n')\n"
   ]
  },
  {
   "cell_type": "markdown",
   "metadata": {},
   "source": [
    "### Imprimindo a Matriz X na tela"
   ]
  },
  {
   "cell_type": "code",
   "execution_count": 108,
   "metadata": {},
   "outputs": [
    {
     "name": "stdout",
     "output_type": "stream",
     "text": [
      "[ 1 ][-1 ][-1 ][-1 ][ 1 ][ 1 ][ 1 ][-1 ]\n",
      "[ 1 ][ 1 ][-1 ][-1 ][-1 ][-1 ][ 1 ][ 1 ]\n",
      "[ 1 ][-1 ][ 1 ][-1 ][-1 ][ 1 ][-1 ][ 1 ]\n",
      "[ 1 ][ 1 ][ 1 ][-1 ][ 1 ][-1 ][-1 ][-1 ]\n",
      "[ 1 ][-1 ][-1 ][ 1 ][ 1 ][-1 ][-1 ][ 1 ]\n",
      "[ 1 ][ 1 ][-1 ][ 1 ][-1 ][ 1 ][-1 ][-1 ]\n",
      "[ 1 ][-1 ][ 1 ][ 1 ][-1 ][-1 ][ 1 ][-1 ]\n",
      "[ 1 ][ 1 ][ 1 ][ 1 ][ 1 ][ 1 ][ 1 ][ 1 ]\n",
      "[ 1 ][ 0 ][ 0 ][ 0 ][ 0 ][ 0 ][ 0 ][ 0 ]\n",
      "[ 1 ][ 0 ][ 0 ][ 0 ][ 0 ][ 0 ][ 0 ][ 0 ]\n",
      "[ 1 ][ 0 ][ 0 ][ 0 ][ 0 ][ 0 ][ 0 ][ 0 ]\n",
      "[ 1 ][ 0 ][ 0 ][ 0 ][ 0 ][ 0 ][ 0 ][ 0 ]\n"
     ]
    }
   ],
   "source": [
    "for linha in range(0, linx):\n",
    "    for coluna in range(0, colx):\n",
    "        print(f'[{matx[linha, coluna]:^3}]', end='')\n",
    "    print()\n"
   ]
  },
  {
   "cell_type": "code",
   "execution_count": 109,
   "metadata": {},
   "outputs": [
    {
     "data": {
      "text/plain": [
       "array([[ 1,  1,  1,  1,  1,  1,  1,  1,  1,  1,  1,  1],\n",
       "       [-1,  1, -1,  1, -1,  1, -1,  1,  0,  0,  0,  0],\n",
       "       [-1, -1,  1,  1, -1, -1,  1,  1,  0,  0,  0,  0],\n",
       "       [-1, -1, -1, -1,  1,  1,  1,  1,  0,  0,  0,  0],\n",
       "       [ 1, -1, -1,  1,  1, -1, -1,  1,  0,  0,  0,  0],\n",
       "       [ 1, -1,  1, -1, -1,  1, -1,  1,  0,  0,  0,  0],\n",
       "       [ 1,  1, -1, -1, -1, -1,  1,  1,  0,  0,  0,  0],\n",
       "       [-1,  1,  1, -1,  1, -1, -1,  1,  0,  0,  0,  0]])"
      ]
     },
     "execution_count": 109,
     "metadata": {},
     "output_type": "execute_result"
    }
   ],
   "source": [
    "\n",
    "# Continuidade do Programa\n",
    "\n",
    "# Matriz Transposta\n",
    "matxtranp = np.transpose(matx)\n",
    "##tamanho = matxtranp.shape\n",
    "matxtranp\n"
   ]
  },
  {
   "cell_type": "markdown",
   "metadata": {},
   "source": [
    "### Matriz X^t*X"
   ]
  },
  {
   "cell_type": "code",
   "execution_count": 110,
   "metadata": {},
   "outputs": [
    {
     "data": {
      "text/plain": [
       "array([[12,  0,  0,  0,  0,  0,  0,  0],\n",
       "       [ 0,  8,  0,  0,  0,  0,  0,  0],\n",
       "       [ 0,  0,  8,  0,  0,  0,  0,  0],\n",
       "       [ 0,  0,  0,  8,  0,  0,  0,  0],\n",
       "       [ 0,  0,  0,  0,  8,  0,  0,  0],\n",
       "       [ 0,  0,  0,  0,  0,  8,  0,  0],\n",
       "       [ 0,  0,  0,  0,  0,  0,  8,  0],\n",
       "       [ 0,  0,  0,  0,  0,  0,  0,  8]])"
      ]
     },
     "execution_count": 110,
     "metadata": {},
     "output_type": "execute_result"
    }
   ],
   "source": [
    "matx_t_x = np.matmul(matxtranp, matx)\n",
    "tamanho = matx_t_x.shape\n",
    "matx_t_x"
   ]
  },
  {
   "cell_type": "markdown",
   "metadata": {},
   "source": [
    "### Matriz X^t*X a -1"
   ]
  },
  {
   "cell_type": "code",
   "execution_count": 111,
   "metadata": {},
   "outputs": [],
   "source": [
    "matx_t_xinv = matx_t_x.astype(float)\n"
   ]
  },
  {
   "cell_type": "code",
   "execution_count": 112,
   "metadata": {},
   "outputs": [],
   "source": [
    "tamanho = matx_t_xinv.shape\n"
   ]
  },
  {
   "cell_type": "code",
   "execution_count": 113,
   "metadata": {},
   "outputs": [
    {
     "data": {
      "text/plain": [
       "array([[0.08333333, 0.        , 0.        , 0.        , 0.        ,\n",
       "        0.        , 0.        , 0.        ],\n",
       "       [0.        , 0.125     , 0.        , 0.        , 0.        ,\n",
       "        0.        , 0.        , 0.        ],\n",
       "       [0.        , 0.        , 0.125     , 0.        , 0.        ,\n",
       "        0.        , 0.        , 0.        ],\n",
       "       [0.        , 0.        , 0.        , 0.125     , 0.        ,\n",
       "        0.        , 0.        , 0.        ],\n",
       "       [0.        , 0.        , 0.        , 0.        , 0.125     ,\n",
       "        0.        , 0.        , 0.        ],\n",
       "       [0.        , 0.        , 0.        , 0.        , 0.        ,\n",
       "        0.125     , 0.        , 0.        ],\n",
       "       [0.        , 0.        , 0.        , 0.        , 0.        ,\n",
       "        0.        , 0.125     , 0.        ],\n",
       "       [0.        , 0.        , 0.        , 0.        , 0.        ,\n",
       "        0.        , 0.        , 0.125     ]])"
      ]
     },
     "execution_count": 113,
     "metadata": {},
     "output_type": "execute_result"
    }
   ],
   "source": [
    "for linha in range(0, tamanho[0]):\n",
    "    for coluna in range(0, tamanho[1]):\n",
    "        if linha == coluna:\n",
    "            matx_t_xinv[linha][coluna] = 1 / (matx_t_x[linha][coluna])\n",
    "matx_t_xinv\n"
   ]
  },
  {
   "cell_type": "markdown",
   "metadata": {},
   "source": [
    "### gerando matris  Y"
   ]
  },
  {
   "cell_type": "code",
   "execution_count": 114,
   "metadata": {},
   "outputs": [
    {
     "data": {
      "text/plain": [
       "array([[0.],\n",
       "       [0.],\n",
       "       [0.],\n",
       "       [0.],\n",
       "       [0.],\n",
       "       [0.],\n",
       "       [0.],\n",
       "       [0.],\n",
       "       [0.],\n",
       "       [0.],\n",
       "       [0.],\n",
       "       [0.]])"
      ]
     },
     "execution_count": 114,
     "metadata": {},
     "output_type": "execute_result"
    }
   ],
   "source": [
    "\n",
    "maty = np.zeros((linx, 1), dtype=float)\n",
    "maty"
   ]
  },
  {
   "cell_type": "markdown",
   "metadata": {},
   "source": [
    "### Leitura da Matriz Y"
   ]
  },
  {
   "cell_type": "code",
   "execution_count": 115,
   "metadata": {},
   "outputs": [
    {
     "name": "stdout",
     "output_type": "stream",
     "text": [
      "\n",
      "\n",
      "Insira o valor da linha 1 da Matriz Y: \n",
      "Insira o valor da linha 2 da Matriz Y: \n",
      "Insira o valor da linha 3 da Matriz Y: \n",
      "Insira o valor da linha 4 da Matriz Y: \n",
      "Insira o valor da linha 5 da Matriz Y: \n",
      "Insira o valor da linha 6 da Matriz Y: \n",
      "Insira o valor da linha 7 da Matriz Y: \n",
      "Insira o valor da linha 8 da Matriz Y: \n",
      "Insira o valor da linha 9 da Matriz Y: \n",
      "Insira o valor da linha 10 da Matriz Y: \n",
      "Insira o valor da linha 11 da Matriz Y: \n",
      "Insira o valor da linha 12 da Matriz Y: \n"
     ]
    }
   ],
   "source": [
    "#maty = [[1.],[20.],[2.],[3.],[4.],[4.],[4.]]\n",
    "\n",
    "\n",
    "print('\\n')\n",
    "for linha in range(0, linx):\n",
    "    print(\"Insira o valor da linha\", linha+1, \"da Matriz Y: \")\n",
    "    maty[linha][0] = input()\n",
    "\n"
   ]
  },
  {
   "cell_type": "code",
   "execution_count": 116,
   "metadata": {},
   "outputs": [],
   "source": [
    "\n",
    "# Cálculo da Matriz X^t * Y\n",
    "matx_t_y = np.matmul(matxtranp, maty)\n"
   ]
  },
  {
   "cell_type": "code",
   "execution_count": 117,
   "metadata": {},
   "outputs": [],
   "source": [
    "# Cálculo dos Betas\n",
    "matbetas = np.matmul(matx_t_xinv, matx_t_y)"
   ]
  },
  {
   "cell_type": "code",
   "execution_count": 148,
   "metadata": {},
   "outputs": [
    {
     "data": {
      "text/plain": [
       "[(1, 2), (1, 3), (2, 3)]"
      ]
     },
     "metadata": {},
     "output_type": "display_data"
    },
    {
     "data": {
      "text/plain": [
       "'===='"
      ]
     },
     "metadata": {},
     "output_type": "display_data"
    },
    {
     "data": {
      "text/plain": [
       "(1, 2)"
      ]
     },
     "metadata": {},
     "output_type": "display_data"
    },
    {
     "data": {
      "text/plain": [
       "(1, 3)"
      ]
     },
     "metadata": {},
     "output_type": "display_data"
    },
    {
     "data": {
      "text/plain": [
       "(2, 3)"
      ]
     },
     "metadata": {},
     "output_type": "display_data"
    },
    {
     "data": {
      "text/plain": [
       "[(1, 2, 3)]"
      ]
     },
     "metadata": {},
     "output_type": "display_data"
    },
    {
     "data": {
      "text/plain": [
       "'===='"
      ]
     },
     "metadata": {},
     "output_type": "display_data"
    },
    {
     "data": {
      "text/plain": [
       "(1, 2, 3)"
      ]
     },
     "metadata": {},
     "output_type": "display_data"
    },
    {
     "data": {
      "text/plain": [
       "[[0], [1], [2], [3], (1, 2), (1, 3), (2, 3), (1, 2, 3)]"
      ]
     },
     "metadata": {},
     "output_type": "display_data"
    }
   ],
   "source": [
    "# display(matbetas)\n",
    "# display(matbetas.size)\n",
    "# display(combvariaveis)\n",
    "# display(combvariaveis[0] )\n",
    "# display(combvariaveis[1] )\n",
    "combvariaveis2 = list()\n",
    "for i in range(fatores+1):\n",
    "    combvariaveis2.append([i])\n",
    "\n",
    "for i in combvariaveis:\n",
    "    display(i)\n",
    "    display(\"====\")\n",
    "    for e in i:\n",
    "        display(e) \n",
    "        combvariaveis2.append(e)\n",
    "# combvariaveis2.insert(combvariaveis[1])\n",
    "display(combvariaveis2)\n",
    "\n"
   ]
  },
  {
   "cell_type": "code",
   "execution_count": 137,
   "metadata": {},
   "outputs": [],
   "source": [
    "# Matriz Beta^t\n",
    "matbetas_t = np.transpose(matbetas)"
   ]
  },
  {
   "cell_type": "code",
   "execution_count": 138,
   "metadata": {},
   "outputs": [],
   "source": [
    "\n",
    "# Valor de Beta^t * X^t * Y\n",
    "matbetas_t_x_t_y = np.matmul(matbetas_t, matx_t_y)"
   ]
  },
  {
   "cell_type": "code",
   "execution_count": 139,
   "metadata": {},
   "outputs": [],
   "source": [
    "\n",
    "# Calculo da variância dos pontos centrais\n",
    "pntcentrais = []\n",
    "for i in range(colx, linx):\n",
    "    pntcentrais.append(maty[i, 0])\n",
    "\n",
    "varian = np.sqrt(variance(pntcentrais) * matx_t_xinv)"
   ]
  },
  {
   "cell_type": "code",
   "execution_count": 140,
   "metadata": {},
   "outputs": [],
   "source": [
    "er = []\n",
    "for lin in range(tamanho[0]):\n",
    "    for col in range(tamanho[1]):\n",
    "        if lin == col:\n",
    "            er.append(varian[lin][col])"
   ]
  },
  {
   "cell_type": "code",
   "execution_count": 147,
   "metadata": {},
   "outputs": [
    {
     "name": "stdout",
     "output_type": "stream",
     "text": [
      "\n",
      "TABELA DE SIGNIFICÂNCIA DOS BETAS\n",
      " =-==-==-==-==-==-==-==-==-==-==-==-==-==-==-==-==-==-==-==-==-==-==-==-==-==-==-==-==-==-=\n"
     ]
    },
    {
     "data": {
      "text/plain": [
       "'\\n'"
      ]
     },
     "metadata": {},
     "output_type": "display_data"
    },
    {
     "data": {
      "text/html": [
       "<div>\n",
       "<style scoped>\n",
       "    .dataframe tbody tr th:only-of-type {\n",
       "        vertical-align: middle;\n",
       "    }\n",
       "\n",
       "    .dataframe tbody tr th {\n",
       "        vertical-align: top;\n",
       "    }\n",
       "\n",
       "    .dataframe thead th {\n",
       "        text-align: right;\n",
       "    }\n",
       "</style>\n",
       "<table border=\"1\" class=\"dataframe\">\n",
       "  <thead>\n",
       "    <tr style=\"text-align: right;\">\n",
       "      <th></th>\n",
       "      <th>indexx</th>\n",
       "      <th>B</th>\n",
       "      <th>er</th>\n",
       "      <th>H0</th>\n",
       "      <th>t[(B - H0)/er]</th>\n",
       "      <th>t crítico</th>\n",
       "      <th>Análise da Hipótese</th>\n",
       "      <th>p-valor</th>\n",
       "    </tr>\n",
       "  </thead>\n",
       "  <tbody>\n",
       "    <tr>\n",
       "      <th>0</th>\n",
       "      <td>0</td>\n",
       "      <td>5.00</td>\n",
       "      <td>0.166667</td>\n",
       "      <td>0</td>\n",
       "      <td>30.000000</td>\n",
       "      <td>2.776445</td>\n",
       "      <td>Aceita-se H0</td>\n",
       "      <td>1.178847e-08</td>\n",
       "    </tr>\n",
       "    <tr>\n",
       "      <th>1</th>\n",
       "      <td>1</td>\n",
       "      <td>0.00</td>\n",
       "      <td>0.204124</td>\n",
       "      <td>0</td>\n",
       "      <td>0.000000</td>\n",
       "      <td>2.776445</td>\n",
       "      <td>Rejeita-se H0</td>\n",
       "      <td>1.000000e+00</td>\n",
       "    </tr>\n",
       "    <tr>\n",
       "      <th>2</th>\n",
       "      <td>2</td>\n",
       "      <td>0.00</td>\n",
       "      <td>0.204124</td>\n",
       "      <td>0</td>\n",
       "      <td>0.000000</td>\n",
       "      <td>2.776445</td>\n",
       "      <td>Rejeita-se H0</td>\n",
       "      <td>1.000000e+00</td>\n",
       "    </tr>\n",
       "    <tr>\n",
       "      <th>3</th>\n",
       "      <td>3</td>\n",
       "      <td>0.75</td>\n",
       "      <td>0.204124</td>\n",
       "      <td>0</td>\n",
       "      <td>3.674235</td>\n",
       "      <td>2.776445</td>\n",
       "      <td>Aceita-se H0</td>\n",
       "      <td>7.919782e-03</td>\n",
       "    </tr>\n",
       "    <tr>\n",
       "      <th>4</th>\n",
       "      <td>(1, 2)</td>\n",
       "      <td>0.25</td>\n",
       "      <td>0.204124</td>\n",
       "      <td>0</td>\n",
       "      <td>1.224745</td>\n",
       "      <td>2.776445</td>\n",
       "      <td>Rejeita-se H0</td>\n",
       "      <td>2.602827e-01</td>\n",
       "    </tr>\n",
       "    <tr>\n",
       "      <th>5</th>\n",
       "      <td>(1, 3)</td>\n",
       "      <td>-0.50</td>\n",
       "      <td>0.204124</td>\n",
       "      <td>0</td>\n",
       "      <td>-2.449490</td>\n",
       "      <td>2.776445</td>\n",
       "      <td>Aceita-se H0</td>\n",
       "      <td>4.414028e-02</td>\n",
       "    </tr>\n",
       "    <tr>\n",
       "      <th>6</th>\n",
       "      <td>(2, 3)</td>\n",
       "      <td>0.00</td>\n",
       "      <td>0.204124</td>\n",
       "      <td>0</td>\n",
       "      <td>0.000000</td>\n",
       "      <td>2.776445</td>\n",
       "      <td>Rejeita-se H0</td>\n",
       "      <td>1.000000e+00</td>\n",
       "    </tr>\n",
       "    <tr>\n",
       "      <th>7</th>\n",
       "      <td>(1, 2, 3)</td>\n",
       "      <td>-0.25</td>\n",
       "      <td>0.204124</td>\n",
       "      <td>0</td>\n",
       "      <td>-1.224745</td>\n",
       "      <td>2.776445</td>\n",
       "      <td>Rejeita-se H0</td>\n",
       "      <td>2.602827e-01</td>\n",
       "    </tr>\n",
       "  </tbody>\n",
       "</table>\n",
       "</div>"
      ],
      "text/plain": [
       "      indexx  B        er     H0       t[(B - H0)/er]  t crítico  \\\n",
       "0          0  5.00  0.166667   0            30.000000   2.776445   \n",
       "1          1  0.00  0.204124   0             0.000000   2.776445   \n",
       "2          2  0.00  0.204124   0             0.000000   2.776445   \n",
       "3          3  0.75  0.204124   0             3.674235   2.776445   \n",
       "4     (1, 2)  0.25  0.204124   0             1.224745   2.776445   \n",
       "5     (1, 3) -0.50  0.204124   0            -2.449490   2.776445   \n",
       "6     (2, 3)  0.00  0.204124   0             0.000000   2.776445   \n",
       "7  (1, 2, 3) -0.25  0.204124   0            -1.224745   2.776445   \n",
       "\n",
       "    Análise da Hipótese       p-valor  \n",
       "0          Aceita-se H0  1.178847e-08  \n",
       "1         Rejeita-se H0  1.000000e+00  \n",
       "2         Rejeita-se H0  1.000000e+00  \n",
       "3          Aceita-se H0  7.919782e-03  \n",
       "4         Rejeita-se H0  2.602827e-01  \n",
       "5          Aceita-se H0  4.414028e-02  \n",
       "6         Rejeita-se H0  1.000000e+00  \n",
       "7         Rejeita-se H0  2.602827e-01  "
      ]
     },
     "metadata": {},
     "output_type": "display_data"
    }
   ],
   "source": [
    "# Montagem da Tabela de Significância dos Betas\n",
    "matb = matbetas.ravel()\n",
    "tam_matb = matb.size\n",
    "tcalc = (matb - 0) / er\n",
    "tintervalo = t.interval(1 - alfa, linx - tam_matb)\n",
    "tcrit = tintervalo[1]\n",
    "\n",
    "t_pvalor_bc = []\n",
    "for i in range(tam_matb):\n",
    "    if matb[i] >= 0:\n",
    "        t_pvalor_bc.append(2 * t.sf(tcalc[i], tam_matb - 1))\n",
    "    else:\n",
    "        t_pvalor_bc.append(2 * t.cdf(tcalc[i], tam_matb - 1))\n",
    "\n",
    "t_aceitacao = []\n",
    "for i in range(tam_matb):\n",
    "    if t_pvalor_bc[i] < alfa:\n",
    "        t_aceitacao.append(\"Aceita-se H0\")\n",
    "    else:\n",
    "        t_aceitacao.append(\"Rejeita-se H0\")\n",
    "\n",
    "tab_signbeta = DataFrame(\n",
    "    {\n",
    "        'indexx':combvariaveis2,\n",
    "        'B   ': matb,\n",
    "        'er   ': er,\n",
    "        'H0': 0,\n",
    "        '     t[(B - H0)/er]': tcalc,\n",
    "        't crítico': tcrit,\n",
    "        '  Análise da Hipótese': t_aceitacao,\n",
    "        'p-valor': t_pvalor_bc\n",
    "    }\n",
    ")\n",
    "\n",
    "print('\\nTABELA DE SIGNIFICÂNCIA DOS BETAS\\n', '=-=' * 30)\n",
    "display('\\n', tab_signbeta)"
   ]
  },
  {
   "cell_type": "code",
   "execution_count": 142,
   "metadata": {},
   "outputs": [
    {
     "name": "stdout",
     "output_type": "stream",
     "text": [
      "\n",
      "TABELA DE ANOVA\n",
      " =-==-==-==-==-==-==-==-==-==-==-==-==-==-==-==-==-==-==-==-==-==-==-==-==-==-==-==-==-==-=\n"
     ]
    },
    {
     "data": {
      "text/plain": [
       "'\\n'"
      ]
     },
     "metadata": {},
     "output_type": "display_data"
    },
    {
     "data": {
      "text/html": [
       "<div>\n",
       "<style scoped>\n",
       "    .dataframe tbody tr th:only-of-type {\n",
       "        vertical-align: middle;\n",
       "    }\n",
       "\n",
       "    .dataframe tbody tr th {\n",
       "        vertical-align: top;\n",
       "    }\n",
       "\n",
       "    .dataframe thead th {\n",
       "        text-align: right;\n",
       "    }\n",
       "</style>\n",
       "<table border=\"1\" class=\"dataframe\">\n",
       "  <thead>\n",
       "    <tr style=\"text-align: right;\">\n",
       "      <th></th>\n",
       "      <th>Fonte Variação</th>\n",
       "      <th>Soma Quadrática</th>\n",
       "      <th>GL</th>\n",
       "      <th>Média Quadrática</th>\n",
       "      <th>F Calculado</th>\n",
       "      <th>F Crítico</th>\n",
       "      <th>Julgamento</th>\n",
       "      <th>p-valor</th>\n",
       "    </tr>\n",
       "  </thead>\n",
       "  <tbody>\n",
       "    <tr>\n",
       "      <th>0</th>\n",
       "      <td>Regressão</td>\n",
       "      <td>7.5</td>\n",
       "      <td>7</td>\n",
       "      <td>1.071429</td>\n",
       "      <td>1.714286</td>\n",
       "      <td>6.094211</td>\n",
       "      <td>Modelo Não Signif.</td>\n",
       "      <td>0.314960</td>\n",
       "    </tr>\n",
       "    <tr>\n",
       "      <th>1</th>\n",
       "      <td>Resíduos</td>\n",
       "      <td>2.5</td>\n",
       "      <td>4</td>\n",
       "      <td>0.625000</td>\n",
       "      <td>1.714286</td>\n",
       "      <td>6.094211</td>\n",
       "      <td>Modelo Não Signif.</td>\n",
       "      <td>0.314960</td>\n",
       "    </tr>\n",
       "    <tr>\n",
       "      <th>2</th>\n",
       "      <td>Falta Ajuste</td>\n",
       "      <td>1.5</td>\n",
       "      <td>1</td>\n",
       "      <td>1.500000</td>\n",
       "      <td>4.500000</td>\n",
       "      <td>10.127964</td>\n",
       "      <td>Falta ajustes</td>\n",
       "      <td>0.124027</td>\n",
       "    </tr>\n",
       "    <tr>\n",
       "      <th>3</th>\n",
       "      <td>Erro Puro</td>\n",
       "      <td>1.0</td>\n",
       "      <td>3</td>\n",
       "      <td>0.333333</td>\n",
       "      <td>4.500000</td>\n",
       "      <td>10.127964</td>\n",
       "      <td>Falta ajustes</td>\n",
       "      <td>0.124027</td>\n",
       "    </tr>\n",
       "  </tbody>\n",
       "</table>\n",
       "</div>"
      ],
      "text/plain": [
       "  Fonte Variação  Soma Quadrática  GL  Média Quadrática  F Calculado  \\\n",
       "0      Regressão              7.5   7          1.071429     1.714286   \n",
       "1       Resíduos              2.5   4          0.625000     1.714286   \n",
       "2   Falta Ajuste              1.5   1          1.500000     4.500000   \n",
       "3      Erro Puro              1.0   3          0.333333     4.500000   \n",
       "\n",
       "   F Crítico          Julgamento   p-valor  \n",
       "0   6.094211  Modelo Não Signif.  0.314960  \n",
       "1   6.094211  Modelo Não Signif.  0.314960  \n",
       "2  10.127964       Falta ajustes  0.124027  \n",
       "3  10.127964       Falta ajustes  0.124027  "
      ]
     },
     "metadata": {},
     "output_type": "display_data"
    },
    {
     "name": "stdout",
     "output_type": "stream",
     "text": [
      "[[10. ]\n",
      " [ 0. ]\n",
      " [ 0. ]\n",
      " [ 1.5]\n",
      " [ 0.5]\n",
      " [-1. ]\n",
      " [ 0. ]\n",
      " [-0.5]]\n",
      "\n",
      " [[-1. ]\n",
      " [-0.5]\n",
      " [ 0. ]\n",
      " [ 0. ]\n",
      " [ 0. ]\n",
      " [ 0.5]\n",
      " [ 1.5]\n",
      " [10. ]]\n",
      "0.125\n",
      "8\n",
      "[[0.0625]\n",
      " [0.1875]\n",
      " [0.3125]\n",
      " [0.4375]\n",
      " [0.5625]\n",
      " [0.6875]\n",
      " [0.8125]\n",
      " [0.9375]]\n",
      "[[-1.53412054]\n",
      " [-0.88714656]\n",
      " [-0.48877641]\n",
      " [-0.15731068]\n",
      " [ 0.15731068]\n",
      " [ 0.48877641]\n",
      " [ 0.88714656]\n",
      " [ 1.53412054]]\n"
     ]
    },
    {
     "ename": "ValueError",
     "evalue": "shape mismatch: objects cannot be broadcast to a single shape.  Mismatch is between arg 2 with shape (8,) and arg 3 with shape (4,).",
     "output_type": "error",
     "traceback": [
      "\u001b[1;31m---------------------------------------------------------------------------\u001b[0m",
      "\u001b[1;31mValueError\u001b[0m                                Traceback (most recent call last)",
      "\u001b[1;32mc:\\Users\\guilhermehsl\\Documents\\guilherme\\PLAN.EX-main\\planex.ipynb Célula: 36\u001b[0m in \u001b[0;36m<cell line: 126>\u001b[1;34m()\u001b[0m\n\u001b[0;32m    <a href='vscode-notebook-cell:/c%3A/Users/guilhermehsl/Documents/guilherme/PLAN.EX-main/planex.ipynb#ch0000034?line=114'>115</a>\u001b[0m \u001b[39m'''\u001b[39;00m\n\u001b[0;32m    <a href='vscode-notebook-cell:/c%3A/Users/guilhermehsl/Documents/guilherme/PLAN.EX-main/planex.ipynb#ch0000034?line=115'>116</a>\u001b[0m \u001b[39mfor i in range(k):\u001b[39;00m\n\u001b[0;32m    <a href='vscode-notebook-cell:/c%3A/Users/guilhermehsl/Documents/guilherme/PLAN.EX-main/planex.ipynb#ch0000034?line=116'>117</a>\u001b[0m \u001b[39m    if i == 0:\u001b[39;00m\n\u001b[1;32m   (...)\u001b[0m\n\u001b[0;32m    <a href='vscode-notebook-cell:/c%3A/Users/guilhermehsl/Documents/guilherme/PLAN.EX-main/planex.ipynb#ch0000034?line=122'>123</a>\u001b[0m \u001b[39m        variaveis.append(combinations(kaux))\u001b[39;00m\n\u001b[0;32m    <a href='vscode-notebook-cell:/c%3A/Users/guilhermehsl/Documents/guilherme/PLAN.EX-main/planex.ipynb#ch0000034?line=123'>124</a>\u001b[0m \u001b[39m'''\u001b[39;00m\n\u001b[0;32m    <a href='vscode-notebook-cell:/c%3A/Users/guilhermehsl/Documents/guilherme/PLAN.EX-main/planex.ipynb#ch0000034?line=124'>125</a>\u001b[0m graf_normal[\u001b[39m1\u001b[39m, \u001b[39m0\u001b[39m]\u001b[39m.\u001b[39mset_title(\u001b[39m\"\u001b[39m\u001b[39mGráfico de Pareto\u001b[39m\u001b[39m\"\u001b[39m)\n\u001b[1;32m--> <a href='vscode-notebook-cell:/c%3A/Users/guilhermehsl/Documents/guilherme/PLAN.EX-main/planex.ipynb#ch0000034?line=125'>126</a>\u001b[0m graf_normal[\u001b[39m1\u001b[39;49m, \u001b[39m0\u001b[39;49m]\u001b[39m.\u001b[39;49mbarh(variaveis[::\u001b[39m-\u001b[39;49m\u001b[39m1\u001b[39;49m], tcalc[::\u001b[39m-\u001b[39;49m\u001b[39m1\u001b[39;49m])\n\u001b[0;32m    <a href='vscode-notebook-cell:/c%3A/Users/guilhermehsl/Documents/guilherme/PLAN.EX-main/planex.ipynb#ch0000034?line=126'>127</a>\u001b[0m graf_normal[\u001b[39m1\u001b[39m, \u001b[39m0\u001b[39m]\u001b[39m.\u001b[39mvlines(tcrit, \u001b[39m-\u001b[39m\u001b[39m0.5\u001b[39m, (tcalc\u001b[39m.\u001b[39msize \u001b[39m+\u001b[39m \u001b[39m0.5\u001b[39m), linestyles\u001b[39m=\u001b[39m\u001b[39m'\u001b[39m\u001b[39mdotted\u001b[39m\u001b[39m'\u001b[39m, lw\u001b[39m=\u001b[39m\u001b[39m3\u001b[39m, colors\u001b[39m=\u001b[39m\u001b[39m'\u001b[39m\u001b[39mr\u001b[39m\u001b[39m'\u001b[39m)\n\u001b[0;32m    <a href='vscode-notebook-cell:/c%3A/Users/guilhermehsl/Documents/guilherme/PLAN.EX-main/planex.ipynb#ch0000034?line=128'>129</a>\u001b[0m plt\u001b[39m.\u001b[39mshow()\n",
      "File \u001b[1;32mc:\\Python310\\lib\\site-packages\\matplotlib\\axes\\_axes.py:2551\u001b[0m, in \u001b[0;36mAxes.barh\u001b[1;34m(self, y, width, height, left, align, **kwargs)\u001b[0m\n\u001b[0;32m   2452\u001b[0m \u001b[39mr\u001b[39m\u001b[39m\"\"\"\u001b[39;00m\n\u001b[0;32m   2453\u001b[0m \u001b[39mMake a horizontal bar plot.\u001b[39;00m\n\u001b[0;32m   2454\u001b[0m \n\u001b[1;32m   (...)\u001b[0m\n\u001b[0;32m   2548\u001b[0m \u001b[39m.\u001b[39;00m\n\u001b[0;32m   2549\u001b[0m \u001b[39m\"\"\"\u001b[39;00m\n\u001b[0;32m   2550\u001b[0m kwargs\u001b[39m.\u001b[39msetdefault(\u001b[39m'\u001b[39m\u001b[39morientation\u001b[39m\u001b[39m'\u001b[39m, \u001b[39m'\u001b[39m\u001b[39mhorizontal\u001b[39m\u001b[39m'\u001b[39m)\n\u001b[1;32m-> 2551\u001b[0m patches \u001b[39m=\u001b[39m \u001b[39mself\u001b[39m\u001b[39m.\u001b[39mbar(x\u001b[39m=\u001b[39mleft, height\u001b[39m=\u001b[39mheight, width\u001b[39m=\u001b[39mwidth, bottom\u001b[39m=\u001b[39my,\n\u001b[0;32m   2552\u001b[0m                    align\u001b[39m=\u001b[39malign, \u001b[39m*\u001b[39m\u001b[39m*\u001b[39mkwargs)\n\u001b[0;32m   2553\u001b[0m \u001b[39mreturn\u001b[39;00m patches\n",
      "File \u001b[1;32mc:\\Python310\\lib\\site-packages\\matplotlib\\__init__.py:1412\u001b[0m, in \u001b[0;36m_preprocess_data.<locals>.inner\u001b[1;34m(ax, data, *args, **kwargs)\u001b[0m\n\u001b[0;32m   1409\u001b[0m \u001b[39m@functools\u001b[39m\u001b[39m.\u001b[39mwraps(func)\n\u001b[0;32m   1410\u001b[0m \u001b[39mdef\u001b[39;00m \u001b[39minner\u001b[39m(ax, \u001b[39m*\u001b[39margs, data\u001b[39m=\u001b[39m\u001b[39mNone\u001b[39;00m, \u001b[39m*\u001b[39m\u001b[39m*\u001b[39mkwargs):\n\u001b[0;32m   1411\u001b[0m     \u001b[39mif\u001b[39;00m data \u001b[39mis\u001b[39;00m \u001b[39mNone\u001b[39;00m:\n\u001b[1;32m-> 1412\u001b[0m         \u001b[39mreturn\u001b[39;00m func(ax, \u001b[39m*\u001b[39m\u001b[39mmap\u001b[39m(sanitize_sequence, args), \u001b[39m*\u001b[39m\u001b[39m*\u001b[39mkwargs)\n\u001b[0;32m   1414\u001b[0m     bound \u001b[39m=\u001b[39m new_sig\u001b[39m.\u001b[39mbind(ax, \u001b[39m*\u001b[39margs, \u001b[39m*\u001b[39m\u001b[39m*\u001b[39mkwargs)\n\u001b[0;32m   1415\u001b[0m     auto_label \u001b[39m=\u001b[39m (bound\u001b[39m.\u001b[39marguments\u001b[39m.\u001b[39mget(label_namer)\n\u001b[0;32m   1416\u001b[0m                   \u001b[39mor\u001b[39;00m bound\u001b[39m.\u001b[39mkwargs\u001b[39m.\u001b[39mget(label_namer))\n",
      "File \u001b[1;32mc:\\Python310\\lib\\site-packages\\matplotlib\\axes\\_axes.py:2342\u001b[0m, in \u001b[0;36mAxes.bar\u001b[1;34m(self, x, height, width, bottom, align, **kwargs)\u001b[0m\n\u001b[0;32m   2339\u001b[0m     \u001b[39mif\u001b[39;00m yerr \u001b[39mis\u001b[39;00m \u001b[39mnot\u001b[39;00m \u001b[39mNone\u001b[39;00m:\n\u001b[0;32m   2340\u001b[0m         yerr \u001b[39m=\u001b[39m \u001b[39mself\u001b[39m\u001b[39m.\u001b[39m_convert_dx(yerr, y0, y, \u001b[39mself\u001b[39m\u001b[39m.\u001b[39mconvert_yunits)\n\u001b[1;32m-> 2342\u001b[0m x, height, width, y, linewidth, hatch \u001b[39m=\u001b[39m np\u001b[39m.\u001b[39;49mbroadcast_arrays(\n\u001b[0;32m   2343\u001b[0m     \u001b[39m# Make args iterable too.\u001b[39;49;00m\n\u001b[0;32m   2344\u001b[0m     np\u001b[39m.\u001b[39;49matleast_1d(x), height, width, y, linewidth, hatch)\n\u001b[0;32m   2346\u001b[0m \u001b[39m# Now that units have been converted, set the tick locations.\u001b[39;00m\n\u001b[0;32m   2347\u001b[0m \u001b[39mif\u001b[39;00m orientation \u001b[39m==\u001b[39m \u001b[39m'\u001b[39m\u001b[39mvertical\u001b[39m\u001b[39m'\u001b[39m:\n",
      "File \u001b[1;32m<__array_function__ internals>:180\u001b[0m, in \u001b[0;36mbroadcast_arrays\u001b[1;34m(*args, **kwargs)\u001b[0m\n",
      "File \u001b[1;32mc:\\Python310\\lib\\site-packages\\numpy\\lib\\stride_tricks.py:540\u001b[0m, in \u001b[0;36mbroadcast_arrays\u001b[1;34m(subok, *args)\u001b[0m\n\u001b[0;32m    533\u001b[0m \u001b[39m# nditer is not used here to avoid the limit of 32 arrays.\u001b[39;00m\n\u001b[0;32m    534\u001b[0m \u001b[39m# Otherwise, something like the following one-liner would suffice:\u001b[39;00m\n\u001b[0;32m    535\u001b[0m \u001b[39m# return np.nditer(args, flags=['multi_index', 'zerosize_ok'],\u001b[39;00m\n\u001b[0;32m    536\u001b[0m \u001b[39m#                  order='C').itviews\u001b[39;00m\n\u001b[0;32m    538\u001b[0m args \u001b[39m=\u001b[39m [np\u001b[39m.\u001b[39marray(_m, copy\u001b[39m=\u001b[39m\u001b[39mFalse\u001b[39;00m, subok\u001b[39m=\u001b[39msubok) \u001b[39mfor\u001b[39;00m _m \u001b[39min\u001b[39;00m args]\n\u001b[1;32m--> 540\u001b[0m shape \u001b[39m=\u001b[39m _broadcast_shape(\u001b[39m*\u001b[39;49margs)\n\u001b[0;32m    542\u001b[0m \u001b[39mif\u001b[39;00m \u001b[39mall\u001b[39m(array\u001b[39m.\u001b[39mshape \u001b[39m==\u001b[39m shape \u001b[39mfor\u001b[39;00m array \u001b[39min\u001b[39;00m args):\n\u001b[0;32m    543\u001b[0m     \u001b[39m# Common case where nothing needs to be broadcasted.\u001b[39;00m\n\u001b[0;32m    544\u001b[0m     \u001b[39mreturn\u001b[39;00m args\n",
      "File \u001b[1;32mc:\\Python310\\lib\\site-packages\\numpy\\lib\\stride_tricks.py:422\u001b[0m, in \u001b[0;36m_broadcast_shape\u001b[1;34m(*args)\u001b[0m\n\u001b[0;32m    417\u001b[0m \u001b[39m\"\"\"Returns the shape of the arrays that would result from broadcasting the\u001b[39;00m\n\u001b[0;32m    418\u001b[0m \u001b[39msupplied arrays against each other.\u001b[39;00m\n\u001b[0;32m    419\u001b[0m \u001b[39m\"\"\"\u001b[39;00m\n\u001b[0;32m    420\u001b[0m \u001b[39m# use the old-iterator because np.nditer does not handle size 0 arrays\u001b[39;00m\n\u001b[0;32m    421\u001b[0m \u001b[39m# consistently\u001b[39;00m\n\u001b[1;32m--> 422\u001b[0m b \u001b[39m=\u001b[39m np\u001b[39m.\u001b[39;49mbroadcast(\u001b[39m*\u001b[39;49margs[:\u001b[39m32\u001b[39;49m])\n\u001b[0;32m    423\u001b[0m \u001b[39m# unfortunately, it cannot handle 32 or more arguments directly\u001b[39;00m\n\u001b[0;32m    424\u001b[0m \u001b[39mfor\u001b[39;00m pos \u001b[39min\u001b[39;00m \u001b[39mrange\u001b[39m(\u001b[39m32\u001b[39m, \u001b[39mlen\u001b[39m(args), \u001b[39m31\u001b[39m):\n\u001b[0;32m    425\u001b[0m     \u001b[39m# ironically, np.broadcast does not properly handle np.broadcast\u001b[39;00m\n\u001b[0;32m    426\u001b[0m     \u001b[39m# objects (it treats them as scalars)\u001b[39;00m\n\u001b[0;32m    427\u001b[0m     \u001b[39m# use broadcasting to avoid allocating the full array\u001b[39;00m\n",
      "\u001b[1;31mValueError\u001b[0m: shape mismatch: objects cannot be broadcast to a single shape.  Mismatch is between arg 2 with shape (8,) and arg 3 with shape (4,)."
     ]
    },
    {
     "data": {
      "image/png": "[encoded data removed]",
      "text/plain": [
       "<Figure size 1080x720 with 4 Axes>"
      ]
     },
     "metadata": {
      "needs_background": "light"
     },
     "output_type": "display_data"
    }
   ],
   "source": [
    "# Consideração dos Betas com Significância\n",
    "\n",
    "#print(matbetas.size)\n",
    "mem_matbetas = matbetas\n",
    "elim_betas = 0\n",
    "while elim_betas == 0:\n",
    "    perg_betas = input('\\nDeseja desconsiderar um beta do modelo?(s/n) ')\n",
    "    if perg_betas == 's':\n",
    "        beta_retirado = int(input('\\nQual o  índice do beta a ser desconsiderado? '))\n",
    "        if beta_retirado > 0 and beta_retirado < matbetas.size:\n",
    "            matbetas[beta_retirado] = 0\n",
    "    else:\n",
    "        elim_betas = 1\n",
    "\n",
    "# Calculo da Matriz Y^\n",
    "matY_ = np.matmul(matx, matbetas)\n",
    "#print('\\n\\n', maty_)\n",
    "\n",
    "# Calculo da Tabela de ANOVA\n",
    "sqereg = np.sum((matY_ - maty.mean()) ** 2)\n",
    "#print('SQE Regressão: ', sqereg)\n",
    "mat_sqe = (maty - matY_) ** 2\n",
    "sqe = np.sum(mat_sqe)\n",
    "#print('SQE: ', sqe)\n",
    "mat_sqfaltaajuste = mat_sqe\n",
    "media_repeticao = np.sum(maty[mat_sqe.size - replicadas:mat_sqe.size]) / replicadas\n",
    "#print(media_repeticao)\n",
    "for i in range(mat_sqe.size - replicadas, mat_sqe.size):\n",
    "    mat_sqfaltaajuste[i] = (matY_[i] - media_repeticao) ** 2\n",
    "sqfaltaajuste = np.sum(mat_sqfaltaajuste)\n",
    "#print(sqfaltaajuste)\n",
    "\n",
    "mat_sqerropuro = mat_sqe\n",
    "for i in range(mat_sqerropuro.size):\n",
    "    if i < mat_sqerropuro.size - replicadas:\n",
    "        mat_sqerropuro[i] = 0\n",
    "    else:\n",
    "        mat_sqerropuro[i] = (maty[i] - media_repeticao) ** 2\n",
    "sqerropuro = np.sum(mat_sqerropuro)\n",
    "\n",
    "font_var = np.array(['Regressão', 'Resíduos', 'Falta Ajuste', 'Erro Puro'])\n",
    "num_gl = np.array([matbetas.size - 1, 2 ** fatores + replicadas - matbetas.size, 2 ** fatores + 1 - matbetas.size, replicadas - 1])\n",
    "somaquad = np.array([sqereg, sqe, sqfaltaajuste, sqerropuro])\n",
    "mediaquad = somaquad / num_gl\n",
    "fcalc = np.empty(4)\n",
    "fcalc[0:2] = mediaquad[0] / mediaquad[1]\n",
    "fcalc[2:] = mediaquad[2] / mediaquad[3]\n",
    "fcrit = np.empty(4)\n",
    "fcrit[0:2] = f.interval(1 - 2 * alfa, num_gl[0], num_gl[1])[1]\n",
    "fcrit[2:] = f.interval(1 - 2 * alfa, num_gl[2], num_gl[3])[1]\n",
    "f_aceitacao = np.empty(4).astype(str)\n",
    "if fcalc[0] > fcrit[0]:\n",
    "    f_aceitacao[:2] = 'Modelo Signif.'\n",
    "else:\n",
    "    f_aceitacao[:2] = 'Modelo Não Signif.'\n",
    "\n",
    "if fcalc[2] > fcrit[2]:\n",
    "    f_aceitacao[2:] = 'Não falta ajustes'\n",
    "else:\n",
    "    f_aceitacao[2:] = 'Falta ajustes'\n",
    "\n",
    "f_pvalor = np.zeros(4)\n",
    "f_pvalor[:2] = f.sf(fcalc[0], num_gl[0], num_gl[1])\n",
    "f_pvalor[2:] = f.sf(fcalc[2], num_gl[2], num_gl[3])\n",
    "\n",
    "tab_anova = DataFrame(\n",
    "    {\n",
    "        'Fonte Variação': font_var,\n",
    "        'Soma Quadrática': somaquad,\n",
    "        'GL': num_gl,\n",
    "        'Média Quadrática': mediaquad,\n",
    "        'F Calculado': fcalc,\n",
    "        'F Crítico': fcrit,\n",
    "        'Julgamento': f_aceitacao,\n",
    "        'p-valor': f_pvalor\n",
    "    }\n",
    ")\n",
    "\n",
    "print('\\nTABELA DE ANOVA\\n', '=-=' * 30)\n",
    "display('\\n', tab_anova)\n",
    "\n",
    "matefeitos = matbetas * 2\n",
    "print(matefeitos)\n",
    "efeitos = np.sort(matefeitos, axis=0)\n",
    "print('\\n', efeitos)\n",
    "\n",
    "fator = 1 / matbetas.size\n",
    "print(fator)\n",
    "\n",
    "print(matbetas.size)\n",
    "pm = np.empty((matbetas.size, 1))\n",
    "for i in range(matbetas.size):\n",
    "    if i == 0:\n",
    "        pm[i, 0] = (fator / 2)\n",
    "    else:\n",
    "        pm[i, 0] = (pm[i-1] + fator)\n",
    "print(pm)\n",
    "\n",
    "mat_z = norm.ppf(pm)\n",
    "print(mat_z)\n",
    "\n",
    "figura1, graf_normal = plt.subplots(ncols=2, nrows=2, figsize=(15, 10))\n",
    "graf_normal[0, 0].set_title(\"Gráfico de Probabilidade Normal\")\n",
    "graf_normal[0, 0].plot(efeitos, mat_z, \"ro\")\n",
    "graf_normal[0, 0].set_xlabel(\"Efeitos\")\n",
    "graf_normal[0, 0].set_ylabel(\"Variável Z\")\n",
    "graf_normal[0, 0].set_adjustable(\"box\", share=True)\n",
    "\n",
    "graf_normal[0, 1].set_title('Gráfico de Resíduos em Função dos Valores Estimados')\n",
    "graf_normal[0, 1].plot(matY_, maty - matY_, \"ro\")\n",
    "graf_normal[0, 1].set_xlabel('Valores Estimados')\n",
    "graf_normal[0, 1].set_ylabel('Resíduos')\n",
    "\n",
    "variaveis = np.array(['Média', 'X1', 'X2', 'X1X2'])\n",
    "'''\n",
    "for i in range(k):\n",
    "    if i == 0:\n",
    "        variaveis.append('Média')\n",
    "    else:\n",
    "        kaux = list()\n",
    "        for j in range(i):\n",
    "            kaux.append(str(j + 1))\n",
    "        variaveis.append(combinations(kaux))\n",
    "'''\n",
    "graf_normal[1, 0].set_title(\"Gráfico de Pareto\")\n",
    "graf_normal[1, 0].barh(variaveis[::-1], tcalc[::-1])\n",
    "graf_normal[1, 0].vlines(tcrit, -0.5, (tcalc.size + 0.5), linestyles='dotted', lw=3, colors='r')\n",
    "\n",
    "plt.show()\n",
    "\n",
    "fim = input('\\nAperte ENTER para finalizar o programa...')\n",
    "\n",
    "print(\"\")\n",
    "\n",
    "\n"
   ]
  }
 ],
 "metadata": {
  "kernelspec": {
   "display_name": "Python 3.10.5 64-bit",
   "language": "python",
   "name": "python3"
  },
  "language_info": {
   "codemirror_mode": {
    "name": "ipython",
    "version": 3
   },
   "file_extension": ".py",
   "mimetype": "text/x-python",
   "name": "python",
   "nbconvert_exporter": "python",
   "pygments_lexer": "ipython3",
   "version": "3.10.5"
  },
  "orig_nbformat": 4,
  "vscode": {
   "interpreter": {
    "hash": "369f2c481f4da34e4445cda3fffd2e751bd1c4d706f27375911949ba6bb62e1c"
   }
  }
 },
 "nbformat": 4,
 "nbformat_minor": 2
}
